{
 "cells": [
  {
   "attachments": {},
   "cell_type": "markdown",
   "id": "4a45fdaf-dbc8-496c-b2aa-ce3446790c2f",
   "metadata": {},
   "source": [
    "# Homework for _git_ and GitHub\n",
    "\n",
    "You can find the lecture notes and the full git/GitHub tutorial [here](https://github.com/masterdesky/ELTE_Mod_Comp_I-pub) under `git-github`."
   ]
  },
  {
   "attachments": {},
   "cell_type": "markdown",
   "id": "1de7c777",
   "metadata": {},
   "source": [
    "### NVLLA. Create a GitHub account, if you don't have one already\n",
    "\n",
    "1. Go to the [GitHub website](https://github.com/).\n",
    "2. Sign up a profile with a non-cringe username (please) and with an existing email address.\n",
    "3. Activate your email address etc...\n",
    "4. That's it, you're done!\n",
    "\n",
    "You can use your GitHub account for all your future projects, so it's worth spending some time to set it up properly (with a good username, email, etc.)."
   ]
  },
  {
   "attachments": {},
   "cell_type": "markdown",
   "id": "6cd1b658",
   "metadata": {},
   "source": [
    "### I. If you already have a GitHub account and any repository on it\n",
    "\n",
    "Skip steps 1-6 and go to step 7 in the next section."
   ]
  },
  {
   "attachments": {},
   "cell_type": "markdown",
   "id": "8a87cbe1-80dd-4184-b809-56336a4b0cfd",
   "metadata": {},
   "source": [
    "### II. If you already have a GitHub account but no repository on it\n",
    "\n",
    "1. Create a new repository on your GitHub account\n",
    "    - Name it `ELTE-korszam1-2023`.\n",
    "    - Write a **meaningful** short description for it.\n",
    "    - Set its visibility to public.\n",
    "    - Initialize it with a `README.md` and a `.gitignore` to ignore `TeX` files.\n",
    "2. Clone the repository to your computer via SSH\n",
    "3. Create a folder named `docs` in the local repo on your computer\n",
    "4. Create a text file inside the `docs` folder and write something in it\n",
    "5. Upload your changes to the online repository using basic _git_ commands\n",
    "6. Edit the `README.md` file on GitHub using the online editor, commit the changes and pull them to your local repository.\n",
    "7. Send the URL of your GitHub repository to [this email address](mailto:masterdesky@protonmail.com)"
   ]
  }
 ],
 "metadata": {
  "kernelspec": {
   "display_name": "Python 3 (ipykernel)",
   "language": "python",
   "name": "python3"
  },
  "language_info": {
   "codemirror_mode": {
    "name": "ipython",
    "version": 3
   },
   "file_extension": ".py",
   "mimetype": "text/x-python",
   "name": "python",
   "nbconvert_exporter": "python",
   "pygments_lexer": "ipython3",
   "version": "3.11.0"
  }
 },
 "nbformat": 4,
 "nbformat_minor": 5
}
