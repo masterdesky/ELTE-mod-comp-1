{
 "cells": [
  {
   "cell_type": "markdown",
   "id": "4a45fdaf-dbc8-496c-b2aa-ce3446790c2f",
   "metadata": {},
   "source": [
    "# Homework for _git_ and GitHub"
   ]
  },
  {
   "cell_type": "markdown",
   "id": "8a87cbe1-80dd-4184-b809-56336a4b0cfd",
   "metadata": {},
   "source": [
    "1. Create a new repository on your GitHub account\n",
    "    - Name it `ELTE-korszam1-2022`.\n",
    "    - Write a **meaningful** short description for it.\n",
    "    - Set its visibility to public.\n",
    "    - Initialize it with a `README.md` and a `.gitignore` to ignore `TeX` files.\n",
    "2. Clone the repository to your computer via SSH\n",
    "3. Create a folder named `docs` in the local repo on your computer\n",
    "4. Create a text file inside the `docs` file and write something to it\n",
    "5. Upload your changes to the online repository using basic _git_ commands\n",
    "6. Send the URL of your GitHub repository to [this email address](mailto:masterdesky@protonmail.com)"
   ]
  },
  {
   "cell_type": "code",
   "execution_count": null,
   "id": "c340fd41-ad51-4db0-b894-2868937fd2d1",
   "metadata": {},
   "outputs": [],
   "source": []
  }
 ],
 "metadata": {
  "kernelspec": {
   "display_name": "Python 3 (ipykernel)",
   "language": "python",
   "name": "python3"
  },
  "language_info": {
   "codemirror_mode": {
    "name": "ipython",
    "version": 3
   },
   "file_extension": ".py",
   "mimetype": "text/x-python",
   "name": "python",
   "nbconvert_exporter": "python",
   "pygments_lexer": "ipython3",
   "version": "3.9.10"
  }
 },
 "nbformat": 4,
 "nbformat_minor": 5
}
